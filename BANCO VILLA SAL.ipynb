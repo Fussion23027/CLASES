{
  "metadata": {
    "language_info": {
      "codemirror_mode": {
        "name": "python",
        "version": 3
      },
      "file_extension": ".py",
      "mimetype": "text/x-python",
      "name": "python",
      "nbconvert_exporter": "python",
      "pygments_lexer": "ipython3",
      "version": "3.8"
    },
    "kernelspec": {
      "name": "python",
      "display_name": "Python (Pyodide)",
      "language": "python"
    }
  },
  "nbformat_minor": 4,
  "nbformat": 4,
  "cells": [
    {
      "cell_type": "markdown",
      "source": "<h1>BANCO VILLA SAL </h1>",
      "metadata": {}
    },
    {
      "cell_type": "markdown",
      "source": "En este Código o para mí en lo que me enfocado es la realización de ciertos bancos de usuario en donde se debe ingresar la información para realizar depósitos y retiros, y muestra la información actualizada de la cuenta al usuario.",
      "metadata": {}
    },
    {
      "cell_type": "code",
      "source": "# Definición de la clase Usuario\nclass Usuario:\n    # Método constructor para inicializar la clase\n    def __init__(self, informacion, saldo_inicial=0):\n        # Atributos de la clase\n        self.informacion = informacion  # Nombre del usuario\n        self.saldo = saldo_inicial  # Saldo inicial de la cuenta\n\n    # Propiedad para obtener la información de la cuenta\n    @property\n    def informaciones(self):\n        return f\"Usuario: {self.informacion}, Saldo: ${self.saldo:.2f}\"\n\n    # Método para realizar un depósito en la cuenta\n    def depositar(self, cantidad):\n        if cantidad > 0:\n            self.saldo += cantidad\n            print(f\"Depósito exitoso. Nuevo saldo: ${self.saldo:.2f}\")\n        else:\n            print(\"La cantidad de depósito debe ser mayor que cero.\")\n\n    # Método para realizar un retiro de la cuenta\n    def retirar(self, cantidad):\n        if cantidad > 0 and cantidad <= self.saldo:\n            self.saldo -= cantidad\n            print(f\"Retiro exitoso. Nuevo saldo: ${self.saldo:.2f}\")\n        else:\n            print(\"La cantidad de retiro es inválida o excede el saldo disponible.\")\n\n# Creación de una instancia de la clase Usuario\ncuenta_pedro = Usuario(informacion=\"Pedro Gerardo Arellano de la Cruz\", saldo_inicial=20000)\n\n# Impresión de la información inicial de la cuenta\nprint(cuenta_pedro.informaciones)\n\n# Operaciones de depósito y retiro\ncuenta_pedro.depositar(4000)\ncuenta_pedro.retirar(20)\n\n# Impresión de la información actualizada de la cuenta\nprint(cuenta_pedro.informaciones)\n",
      "metadata": {
        "trusted": true
      },
      "execution_count": 6,
      "outputs": [
        {
          "name": "stdout",
          "text": "Usuario: Pedro Gerardo Arellano de la Cruz, Saldo: $20000.00\nDepósito exitoso. Nuevo saldo: $24000.00\nRetiro exitoso. Nuevo saldo: $23980.00\nUsuario: Pedro Gerardo Arellano de la Cruz, Saldo: $23980.00\n",
          "output_type": "stream"
        }
      ]
    }
  ]
}